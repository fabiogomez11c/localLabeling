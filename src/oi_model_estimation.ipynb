{
  "cells": [
    {
      "cell_type": "code",
      "execution_count": null,
      "metadata": {
        "colab": {
          "base_uri": "https://localhost:8080/"
        },
        "id": "1BjN-HSbp8pj",
        "outputId": "9b6e6fef-8fa4-4a94-d850-8e4017fee4f6"
      },
      "outputs": [],
      "source": [
        "# gpu_info = !nvidia-smi\n",
        "# gpu_info = '\\n'.join(gpu_info)\n",
        "# if gpu_info.find('failed') >= 0:\n",
        "#   print('Not connected to a GPU')\n",
        "# else:\n",
        "#   print(gpu_info)"
      ]
    },
    {
      "cell_type": "code",
      "execution_count": null,
      "metadata": {
        "colab": {
          "base_uri": "https://localhost:8080/"
        },
        "id": "8oN0XYaijajA",
        "outputId": "3405103c-7f34-4e99-c64d-7cb49525a1a1"
      },
      "outputs": [],
      "source": [
        "# %cd drive/MyDrive/documents/images/momseguros_tucarro/"
      ]
    },
    {
      "cell_type": "code",
      "execution_count": null,
      "metadata": {
        "colab": {
          "base_uri": "https://localhost:8080/"
        },
        "id": "zJYlBUGBjchM",
        "outputId": "f22ebfe4-9f8f-4132-855a-96a5d6aec4c4"
      },
      "outputs": [],
      "source": [
        "# %ls"
      ]
    },
    {
      "cell_type": "code",
      "execution_count": null,
      "metadata": {
        "id": "qZNoIW8Zjce1"
      },
      "outputs": [],
      "source": [
        "import tensorflow as tf\n",
        "import matplotlib.pyplot as plt\n",
        "import json"
      ]
    },
    {
      "cell_type": "code",
      "execution_count": null,
      "metadata": {
        "id": "W8oLu_FEjccg"
      },
      "outputs": [],
      "source": [
        "batch_size = 32\n",
        "img_size = (256, 256)\n",
        "\n",
        "model_name = ['oi_', '_w_v1']"
      ]
    },
    {
      "cell_type": "code",
      "execution_count": null,
      "metadata": {
        "id": "zR-4je9nW4qh"
      },
      "outputs": [],
      "source": [
        "images_train_directory = '../images/oi/train'\n",
        "images_val_directory = '../images/oi/validation'\n",
        "# images_test_directory = './images/oi/test'"
      ]
    },
    {
      "cell_type": "code",
      "execution_count": null,
      "metadata": {
        "colab": {
          "base_uri": "https://localhost:8080/",
          "height": 381
        },
        "id": "kEHpD6iOCdLA",
        "outputId": "5803fec8-6987-49dd-c6fe-a89de76f3325"
      },
      "outputs": [],
      "source": [
        "class_names = ['inside', 'outside']\n",
        "\n",
        "train_ds = tf.keras.utils.image_dataset_from_directory(\n",
        "  images_train_directory,\n",
        "  class_names=class_names,\n",
        "  seed=123,\n",
        "  image_size=img_size,\n",
        "  batch_size=batch_size\n",
        ")\n",
        "\n",
        "val_ds = tf.keras.utils.image_dataset_from_directory(\n",
        "  images_val_directory,\n",
        "  class_names=class_names,\n",
        "  shuffle=False,\n",
        "  image_size=img_size,\n",
        "  batch_size=batch_size\n",
        ")\n",
        "\n",
        "# test_ds = tf.keras.utils.image_dataset_from_directory(\n",
        "#   images_test_directory,\n",
        "#   class_names=class_names,\n",
        "#   shuffle=False,\n",
        "#   image_size=img_size,\n",
        "#   batch_size=batch_size\n",
        "# )         "
      ]
    },
    {
      "cell_type": "code",
      "execution_count": null,
      "metadata": {
        "id": "re_XFB88Ccrx"
      },
      "outputs": [],
      "source": [
        "class_names = train_ds.class_names\n",
        "print(class_names)"
      ]
    },
    {
      "cell_type": "code",
      "execution_count": null,
      "metadata": {
        "id": "aAFGnIHzCckm"
      },
      "outputs": [],
      "source": [
        "plt.figure(figsize=(10, 10))\n",
        "for images, labels in train_ds.take(10):\n",
        "  for i in range(9):\n",
        "    ax = plt.subplot(3, 3, i + 1)\n",
        "    plt.imshow(images[i].numpy().astype(\"uint8\"))\n",
        "    plt.title(class_names[labels[i]])\n",
        "    plt.axis(\"off\")"
      ]
    },
    {
      "cell_type": "code",
      "execution_count": null,
      "metadata": {
        "id": "PhGN_l-UgjqS"
      },
      "outputs": [],
      "source": [
        "data_augmentation = tf.keras.Sequential([\n",
        "  tf.keras.layers.RandomFlip(\"horizontal_and_vertical\"),\n",
        "  tf.keras.layers.RandomRotation(0.2),\n",
        "])\n",
        "\n",
        "for i in train_ds.take(1):\n",
        "    image = i[0][0]\n",
        "\n",
        "tf.cast(tf.expand_dims(image, 0), tf.float32)\n",
        "plt.figure(figsize=(10, 10))\n",
        "for i in range(9):\n",
        "  augmented_image = data_augmentation(image)\n",
        "  ax = plt.subplot(3, 3, i + 1)\n",
        "  plt.imshow(tf.keras.utils.array_to_img(augmented_image))\n",
        "  plt.axis(\"off\")"
      ]
    },
    {
      "cell_type": "code",
      "execution_count": null,
      "metadata": {
        "id": "A552QVnVCccg"
      },
      "outputs": [],
      "source": [
        "AUTOTUNE = tf.data.AUTOTUNE\n",
        "\n",
        "# train_ds = train_ds.cache()\n",
        "# val_ds = val_ds.cache()\n",
        "# test_ds = test_ds.cache()"
      ]
    },
    {
      "cell_type": "code",
      "execution_count": null,
      "metadata": {
        "id": "_C0T9IxFlCTY"
      },
      "outputs": [],
      "source": [
        "# callbacks\n",
        "class AccReached(tf.keras.callbacks.Callback):\n",
        "  def __init__(self):\n",
        "    pass\n",
        "  def on_epoch_end(self, epoch, logs={}):\n",
        "    if(logs.get('accuracy') > 0.99):\n",
        "      print(\"\\nReached 99% accuracy so cancelling training!\")\n",
        "      self.model.stop_training = True\n",
        "\n",
        "early_stop = tf.keras.callbacks.EarlyStopping(monitor='loss', patience=10, restore_best_weights=True, mode='min', verbose=1)\n",
        "\n",
        "check_point_callback = tf.keras.callbacks.ModelCheckpoint(\n",
        "  filepath=f'models/{model_name[0]}model{model_name[1]}.h5',\n",
        "  monitor='val_loss',\n",
        "  mode='min',\n",
        "  save_best_only=True,\n",
        "  save_weights_only=True,\n",
        ")"
      ]
    },
    {
      "cell_type": "code",
      "execution_count": null,
      "metadata": {
        "id": "nXNtvOn_XDbf"
      },
      "outputs": [],
      "source": [
        "# learning rate\n",
        "lr_schedule = tf.keras.optimizers.schedules.ExponentialDecay(\n",
        "  initial_learning_rate=0.001,\n",
        "  decay_steps=2000,\n",
        "  decay_rate=0.9\n",
        "  )"
      ]
    },
    {
      "cell_type": "code",
      "execution_count": null,
      "metadata": {
        "id": "ReiBAgxsXDhu"
      },
      "outputs": [],
      "source": [
        "REGULARIZATION_LAMBDA = 0.000015\n",
        "\n",
        "model = tf.keras.models.Sequential([\n",
        "    data_augmentation,\n",
        "    tf.keras.layers.Rescaling(1./255, input_shape=(256, 256, 3)),\n",
        "    tf.keras.layers.Conv2D(32, (3,3), activation='relu'),\n",
        "    tf.keras.layers.MaxPooling2D(2,2),\n",
        "    tf.keras.layers.Conv2D(32, (3,3), activation='relu'),\n",
        "    tf.keras.layers.MaxPooling2D(2,2),\n",
        "    tf.keras.layers.Conv2D(64, (3,3), activation='relu'),\n",
        "    tf.keras.layers.MaxPooling2D(2,2),\n",
        "    tf.keras.layers.Flatten(),\n",
        "    tf.keras.layers.Dense(3042, activation='relu'),\n",
        "    tf.keras.layers.Dropout(0.2),\n",
        "    tf.keras.layers.Dense(2028, activation='relu'),\n",
        "    tf.keras.layers.Dropout(0.2),\n",
        "    tf.keras.layers.Dense(1014, activation='relu'),\n",
        "    tf.keras.layers.Dropout(0.2),\n",
        "    tf.keras.layers.Dense(512, activation='relu'),\n",
        "    tf.keras.layers.Dropout(0.2),\n",
        "    tf.keras.layers.Dense(256, activation='relu'),\n",
        "    tf.keras.layers.Dropout(0.2),\n",
        "    tf.keras.layers.Dense(128, activation='relu'),\n",
        "    tf.keras.layers.Dropout(0.2),\n",
        "    tf.keras.layers.Dense(64, activation='relu'),\n",
        "    tf.keras.layers.Dropout(0.2),\n",
        "    tf.keras.layers.Dense(1, activation='sigmoid')\n",
        "])"
      ]
    },
    {
      "cell_type": "code",
      "execution_count": null,
      "metadata": {
        "id": "dghDCtgpXDnW"
      },
      "outputs": [],
      "source": [
        "model.compile(\n",
        "  loss='binary_crossentropy',\n",
        "  optimizer=tf.optimizers.SGD(learning_rate=lr_schedule),\n",
        "  metrics=['accuracy'],\n",
        ")"
      ]
    },
    {
      "cell_type": "code",
      "execution_count": null,
      "metadata": {
        "id": "_Z2aagmBXDtC"
      },
      "outputs": [],
      "source": [
        "history = model.fit(\n",
        "  train_ds,\n",
        "  steps_per_epoch=32,\n",
        "  epochs=1000,\n",
        "  verbose=1,\n",
        "  callbacks=[AccReached(), check_point_callback],\n",
        "  validation_data=val_ds,\n",
        ")"
      ]
    },
    {
      "cell_type": "code",
      "execution_count": null,
      "metadata": {
        "id": "YyRO7Y1SpQWd"
      },
      "outputs": [],
      "source": [
        "with open(f'models/{model_name[0]}history{model_name[1]}.json', 'w') as json_file:\n",
        "    json.dump(history.history, json_file)"
      ]
    },
    {
      "cell_type": "code",
      "execution_count": null,
      "metadata": {
        "id": "fYRZvW3xpQQA"
      },
      "outputs": [],
      "source": []
    },
    {
      "cell_type": "code",
      "execution_count": null,
      "metadata": {
        "id": "bqhnpporpQI5"
      },
      "outputs": [],
      "source": []
    },
    {
      "cell_type": "code",
      "execution_count": null,
      "metadata": {
        "id": "7J-TFcoupQEs"
      },
      "outputs": [],
      "source": []
    },
    {
      "cell_type": "code",
      "execution_count": null,
      "metadata": {
        "id": "XrYM9tKHXv5N"
      },
      "outputs": [],
      "source": []
    }
  ],
  "metadata": {
    "accelerator": "GPU",
    "colab": {
      "machine_shape": "hm",
      "provenance": []
    },
    "gpuClass": "premium",
    "kernelspec": {
      "display_name": "Python 3.8.13 ('housingML')",
      "language": "python",
      "name": "python3"
    },
    "language_info": {
      "codemirror_mode": {
        "name": "ipython",
        "version": 3
      },
      "file_extension": ".py",
      "mimetype": "text/x-python",
      "name": "python",
      "nbconvert_exporter": "python",
      "pygments_lexer": "ipython3",
      "version": "3.8.13"
    },
    "vscode": {
      "interpreter": {
        "hash": "6b331d1ff2822da3f481e4c13681848a371fdcf1065a18398339d261d1aa718a"
      }
    }
  },
  "nbformat": 4,
  "nbformat_minor": 0
}
