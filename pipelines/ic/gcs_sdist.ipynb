{
 "cells": [
  {
   "cell_type": "code",
   "execution_count": 7,
   "metadata": {},
   "outputs": [
    {
     "name": "stdout",
     "output_type": "stream",
     "text": [
      "running sdist\n",
      "running egg_info\n",
      "writing trainer.egg-info/PKG-INFO\n",
      "writing dependency_links to trainer.egg-info/dependency_links.txt\n",
      "writing requirements to trainer.egg-info/requires.txt\n",
      "writing top-level names to trainer.egg-info/top_level.txt\n",
      "reading manifest file 'trainer.egg-info/SOURCES.txt'\n",
      "writing manifest file 'trainer.egg-info/SOURCES.txt'\n",
      "warning: sdist: standard file not found: should have one of README, README.rst, README.txt, README.md\n",
      "\n",
      "running check\n",
      "creating trainer-2.3\n",
      "creating trainer-2.3/trainer\n",
      "creating trainer-2.3/trainer.egg-info\n",
      "copying files to trainer-2.3...\n",
      "copying setup.py -> trainer-2.3\n",
      "copying trainer/__init__.py -> trainer-2.3/trainer\n",
      "copying trainer/get_images.py -> trainer-2.3/trainer\n",
      "copying trainer/task.py -> trainer-2.3/trainer\n",
      "copying trainer.egg-info/PKG-INFO -> trainer-2.3/trainer.egg-info\n",
      "copying trainer.egg-info/SOURCES.txt -> trainer-2.3/trainer.egg-info\n",
      "copying trainer.egg-info/dependency_links.txt -> trainer-2.3/trainer.egg-info\n",
      "copying trainer.egg-info/requires.txt -> trainer-2.3/trainer.egg-info\n",
      "copying trainer.egg-info/top_level.txt -> trainer-2.3/trainer.egg-info\n",
      "Writing trainer-2.3/setup.cfg\n",
      "Creating tar archive\n",
      "removing 'trainer-2.3' (and everything under it)\n"
     ]
    }
   ],
   "source": [
    "!python setup.py sdist --formats=gztar"
   ]
  },
  {
   "cell_type": "code",
   "execution_count": 8,
   "metadata": {},
   "outputs": [
    {
     "name": "stdout",
     "output_type": "stream",
     "text": [
      "Copying file://dist/trainer-2.3.tar.gz [Content-Type=application/x-tar]...\n",
      "/ [1 files][  2.8 KiB/  2.8 KiB]                                                \n",
      "Operation completed over 1 objects/2.8 KiB.                                      \n"
     ]
    }
   ],
   "source": [
    "!gsutil cp dist/trainer-2.3.tar.gz gs://mom_seguros_poc/dist/"
   ]
  },
  {
   "cell_type": "code",
   "execution_count": null,
   "metadata": {},
   "outputs": [],
   "source": []
  }
 ],
 "metadata": {
  "kernelspec": {
   "display_name": "base",
   "language": "python",
   "name": "python3"
  },
  "language_info": {
   "codemirror_mode": {
    "name": "ipython",
    "version": 3
   },
   "file_extension": ".py",
   "mimetype": "text/x-python",
   "name": "python",
   "nbconvert_exporter": "python",
   "pygments_lexer": "ipython3",
   "version": "3.7.12"
  },
  "orig_nbformat": 4,
  "vscode": {
   "interpreter": {
    "hash": "d4d1e4263499bec80672ea0156c357c1ee493ec2b1c70f0acce89fc37c4a6abe"
   }
  }
 },
 "nbformat": 4,
 "nbformat_minor": 2
}
