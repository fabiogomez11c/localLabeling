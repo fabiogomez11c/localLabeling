{
 "cells": [
  {
   "cell_type": "code",
   "execution_count": 18,
   "metadata": {},
   "outputs": [],
   "source": [
    "import tensorflow as tf"
   ]
  },
  {
   "cell_type": "code",
   "execution_count": 19,
   "metadata": {},
   "outputs": [],
   "source": [
    "from google.cloud import storage\n",
    "\n",
    "\n",
    "def download_blob(bucket_name, source_blob_name, destination_file_name):\n",
    "    \"\"\"Downloads a blob from the bucket.\"\"\"\n",
    "    # The ID of your GCS bucket\n",
    "    # bucket_name = \"your-bucket-name\"\n",
    "\n",
    "    # The ID of your GCS object\n",
    "    # source_blob_name = \"storage-object-name\"\n",
    "\n",
    "    # The path to which the file should be downloaded\n",
    "    # destination_file_name = \"local/path/to/file\"\n",
    "\n",
    "    storage_client = storage.Client()\n",
    "\n",
    "    bucket = storage_client.bucket(bucket_name)\n",
    "\n",
    "    # Construct a client side representation of a blob.\n",
    "    # Note `Bucket.blob` differs from `Bucket.get_blob` as it doesn't retrieve\n",
    "    # any content from Google Cloud Storage. As we don't need additional data,\n",
    "    # using `Bucket.blob` is preferred here.\n",
    "    blob = bucket.blob(source_blob_name)\n",
    "    blob.download_to_filename(destination_file_name)\n",
    "\n",
    "    print(\n",
    "        \"Downloaded storage object {} from bucket {} to local file {}.\".format(\n",
    "            source_blob_name, bucket_name, destination_file_name\n",
    "        )\n",
    "    )"
   ]
  },
  {
   "cell_type": "code",
   "execution_count": 20,
   "metadata": {},
   "outputs": [
    {
     "name": "stdout",
     "output_type": "stream",
     "text": [
      "Downloaded storage object gcf_model.h5 from bucket mom_seguros_images_car to local file ./gcf_model.h5.\n"
     ]
    }
   ],
   "source": [
    "download_blob('mom_seguros_images_car', 'gcf_model.h5', './gcf_model.h5')"
   ]
  },
  {
   "cell_type": "code",
   "execution_count": 21,
   "metadata": {},
   "outputs": [],
   "source": [
    "new_model = tf.keras.models.load_model('gcf_model.h5')"
   ]
  },
  {
   "cell_type": "code",
   "execution_count": 27,
   "metadata": {},
   "outputs": [
    {
     "name": "stdout",
     "output_type": "stream",
     "text": [
      "Downloaded storage object ic/train/train/correct/0.9548_car_a5fcb34e-68db-11ed-b6d3-ce59abab15a2.png from bucket mom_seguros_images_car to local file ./0.9548_car_a5fcb34e-68db-11ed-b6d3-ce59abab15a2.png.\n"
     ]
    }
   ],
   "source": [
    "download_blob('mom_seguros_images_car', 'ic/train/train/correct/0.9548_car_a5fcb34e-68db-11ed-b6d3-ce59abab15a2.png', './0.9548_car_a5fcb34e-68db-11ed-b6d3-ce59abab15a2.png')\n",
    "# image_filepath = './correct1.png'\n",
    "# image = tf.keras.utils.load_img(image_filepath, target_size=(128, 128))\n",
    "# image_array = tf.keras.utils.img_to_array(image)"
   ]
  },
  {
   "cell_type": "code",
   "execution_count": 23,
   "metadata": {},
   "outputs": [
    {
     "data": {
      "text/plain": [
       "array([[[[ 96.,  94.,  92.],\n",
       "         [ 98.,  96.,  95.],\n",
       "         [ 98.,  96.,  95.],\n",
       "         ...,\n",
       "         [ 13.,  13.,  11.],\n",
       "         [ 24.,  25.,  22.],\n",
       "         [ 26.,  26.,  24.]],\n",
       "\n",
       "        [[  9.,   7.,   5.],\n",
       "         [ 10.,   8.,   6.],\n",
       "         [  9.,   7.,   5.],\n",
       "         ...,\n",
       "         [ 14.,  14.,  12.],\n",
       "         [ 24.,  25.,  22.],\n",
       "         [ 27.,  27.,  25.]],\n",
       "\n",
       "        [[ 66.,  64.,  62.],\n",
       "         [ 64.,  62.,  61.],\n",
       "         [ 38.,  36.,  34.],\n",
       "         ...,\n",
       "         [ 14.,  14.,  12.],\n",
       "         [ 27.,  27.,  25.],\n",
       "         [ 28.,  28.,  26.]],\n",
       "\n",
       "        ...,\n",
       "\n",
       "        [[159., 154., 156.],\n",
       "         [159., 155., 154.],\n",
       "         [160., 158., 154.],\n",
       "         ...,\n",
       "         [166., 162., 159.],\n",
       "         [166., 162., 159.],\n",
       "         [165., 161., 158.]],\n",
       "\n",
       "        [[156., 149., 151.],\n",
       "         [160., 156., 155.],\n",
       "         [163., 162., 158.],\n",
       "         ...,\n",
       "         [170., 166., 162.],\n",
       "         [167., 163., 160.],\n",
       "         [171., 167., 164.]],\n",
       "\n",
       "        [[156., 151., 151.],\n",
       "         [158., 154., 153.],\n",
       "         [160., 156., 155.],\n",
       "         ...,\n",
       "         [146., 142., 139.],\n",
       "         [149., 145., 142.],\n",
       "         [150., 146., 143.]]]], dtype=float32)"
      ]
     },
     "execution_count": 23,
     "metadata": {},
     "output_type": "execute_result"
    }
   ],
   "source": [
    "image_array.reshape(1, 128, 128, 3)"
   ]
  },
  {
   "cell_type": "code",
   "execution_count": 24,
   "metadata": {},
   "outputs": [
    {
     "data": {
      "text/plain": [
       "0.76906747"
      ]
     },
     "execution_count": 24,
     "metadata": {},
     "output_type": "execute_result"
    }
   ],
   "source": [
    "new_model.predict(image_array.reshape(1, 128, 128, 3))[0][0]"
   ]
  },
  {
   "cell_type": "code",
   "execution_count": null,
   "metadata": {},
   "outputs": [],
   "source": []
  },
  {
   "cell_type": "code",
   "execution_count": null,
   "metadata": {},
   "outputs": [],
   "source": []
  },
  {
   "cell_type": "code",
   "execution_count": null,
   "metadata": {},
   "outputs": [],
   "source": []
  },
  {
   "cell_type": "code",
   "execution_count": null,
   "metadata": {},
   "outputs": [],
   "source": []
  },
  {
   "cell_type": "code",
   "execution_count": null,
   "metadata": {},
   "outputs": [],
   "source": []
  },
  {
   "cell_type": "code",
   "execution_count": null,
   "metadata": {},
   "outputs": [],
   "source": []
  },
  {
   "cell_type": "code",
   "execution_count": null,
   "metadata": {},
   "outputs": [],
   "source": []
  },
  {
   "cell_type": "code",
   "execution_count": null,
   "metadata": {},
   "outputs": [],
   "source": []
  },
  {
   "cell_type": "code",
   "execution_count": null,
   "metadata": {},
   "outputs": [],
   "source": []
  }
 ],
 "metadata": {
  "kernelspec": {
   "display_name": "base",
   "language": "python",
   "name": "python3"
  },
  "language_info": {
   "codemirror_mode": {
    "name": "ipython",
    "version": 3
   },
   "file_extension": ".py",
   "mimetype": "text/x-python",
   "name": "python",
   "nbconvert_exporter": "python",
   "pygments_lexer": "ipython3",
   "version": "3.7.12 | packaged by conda-forge | (default, Oct 26 2021, 06:08:21) \n[GCC 9.4.0]"
  },
  "orig_nbformat": 4,
  "vscode": {
   "interpreter": {
    "hash": "d4d1e4263499bec80672ea0156c357c1ee493ec2b1c70f0acce89fc37c4a6abe"
   }
  }
 },
 "nbformat": 4,
 "nbformat_minor": 2
}
